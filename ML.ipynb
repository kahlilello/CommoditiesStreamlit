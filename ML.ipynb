{
 "cells": [
  {
   "cell_type": "code",
   "execution_count": 2,
   "metadata": {},
   "outputs": [],
   "source": [
    "import pandas as pd\n",
    "data_path = \"commodities_12_22.csv\"\n",
    "# Read the CSV file into a pandas dataframe\n",
    "df = pd.read_csv(data_path)"
   ]
  },
  {
   "cell_type": "markdown",
   "metadata": {},
   "source": [
    "# This is for EDA"
   ]
  },
  {
   "cell_type": "code",
   "execution_count": 20,
   "metadata": {},
   "outputs": [
    {
     "name": "stdout",
     "output_type": "stream",
     "text": [
      "        Date  Crude Oil  Brent Oil  Natural Gas    Gold  Silver  Copper\n",
      "0 2022-06-15     119.11     121.35        7.296  1814.8  21.090  4.1777\n",
      "1 2022-06-14     118.93     121.17        7.189  1813.5  20.954  4.1565\n",
      "2 2022-06-13     120.93     122.27        8.609  1831.8  21.255  4.2115\n",
      "3 2022-06-10     120.67     122.01        8.850  1875.5  21.931  4.2945\n",
      "4 2022-06-09     121.51     123.07        8.963  1852.8  21.817  4.3810\n",
      "\n",
      "Data Types of each column: \n",
      "Date           datetime64[ns]\n",
      "Crude Oil             float64\n",
      "Brent Oil             float64\n",
      "Natural Gas           float64\n",
      "Gold                  float64\n",
      "Silver                float64\n",
      "Copper                float64\n",
      "dtype: object\n"
     ]
    }
   ],
   "source": [
    "# Print the first few rows of the dataframe (optional)\n",
    "dtypes = df.dtypes\n",
    "print(f'''{df.head()}\n",
    "\n",
    "Data Types of each column: \\n{dtypes}''')\n"
   ]
  },
  {
   "cell_type": "code",
   "execution_count": 21,
   "metadata": {},
   "outputs": [
    {
     "name": "stdout",
     "output_type": "stream",
     "text": [
      "           Date  Crude Oil  Brent Oil  Natural Gas    Gold  Silver  Copper\n",
      "0    2022-06-15     119.11     121.35        7.296  1814.8  21.090  4.1777\n",
      "1    2022-06-14     118.93     121.17        7.189  1813.5  20.954  4.1565\n",
      "2    2022-06-13     120.93     122.27        8.609  1831.8  21.255  4.2115\n",
      "3    2022-06-10     120.67     122.01        8.850  1875.5  21.931  4.2945\n",
      "4    2022-06-09     121.51     123.07        8.963  1852.8  21.817  4.3810\n",
      "...         ...        ...        ...          ...     ...     ...     ...\n",
      "3254 2012-01-29        NaN        NaN          NaN     NaN  33.908     NaN\n",
      "3255 2012-01-22        NaN        NaN          NaN     NaN  31.793     NaN\n",
      "3256 2012-01-15        NaN        NaN          NaN     NaN  29.785     NaN\n",
      "3257 2012-01-08        NaN        NaN          NaN     NaN  28.848     NaN\n",
      "3258 2012-01-02        NaN        NaN          NaN     NaN  28.160     NaN\n",
      "\n",
      "[3259 rows x 7 columns]\n"
     ]
    }
   ],
   "source": [
    "print(df)"
   ]
  },
  {
   "cell_type": "code",
   "execution_count": 24,
   "metadata": {},
   "outputs": [
    {
     "name": "stdout",
     "output_type": "stream",
     "text": [
      "Total rows: 3259\n",
      "Number of rows with nulls: 603\n",
      "Null Date: 2022-05-29 00:00:00\n"
     ]
    }
   ],
   "source": [
    "#Total Rows\n",
    "totalRows = df.shape[0]\n",
    "\n",
    "#Counting the # of Nulls\n",
    "nulls = df.isnull().sum(axis=1)\n",
    "rowCountWNulls = len(nulls[nulls>0])\n",
    "\n",
    "#Latest null row\n",
    "df['Date'] = pd.to_datetime(df['Date'])\n",
    "#Find the first row with a Null value (Excluding 'Date')\n",
    "\n",
    "nullMask = df.iloc[:, 1:].isnull().any(axis = 1) #Check for nulls except for Date\n",
    "latestNullRow = df[nullMask].iloc[0]\n",
    "\n",
    "print(f'''Total rows: {totalRows}\n",
    "Number of rows with nulls: {rowCountWNulls}\n",
    "Null Date: {latestNullRow.iloc[0]}''')\n",
    "#Latest Date w/ a Null: {latestNullRow}"
   ]
  }
 ],
 "metadata": {
  "kernelspec": {
   "display_name": "Python 3",
   "language": "python",
   "name": "python3"
  },
  "language_info": {
   "codemirror_mode": {
    "name": "ipython",
    "version": 3
   },
   "file_extension": ".py",
   "mimetype": "text/x-python",
   "name": "python",
   "nbconvert_exporter": "python",
   "pygments_lexer": "ipython3",
   "version": "3.9.6"
  }
 },
 "nbformat": 4,
 "nbformat_minor": 2
}
